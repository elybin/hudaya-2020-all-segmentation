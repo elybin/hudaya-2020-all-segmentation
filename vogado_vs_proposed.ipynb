{
  "nbformat": 4,
  "nbformat_minor": 0,
  "metadata": {
    "colab": {
      "name": "vogado_vs_proposed.ipynb",
      "provenance": [],
      "collapsed_sections": []
    },
    "kernelspec": {
      "name": "python3",
      "display_name": "Python 3"
    }
  },
  "cells": [
    {
      "cell_type": "code",
      "metadata": {
        "id": "DomJn9DynNif",
        "colab_type": "code",
        "colab": {
          "base_uri": "https://localhost:8080/",
          "height": 68
        },
        "outputId": "037aeddc-141c-4c03-f715-5d783cf9af24"
      },
      "source": [
        "# installing required module \n",
        "!pip install fuzzy-c-means"
      ],
      "execution_count": null,
      "outputs": [
        {
          "output_type": "stream",
          "text": [
            "Requirement already satisfied: fuzzy-c-means in /usr/local/lib/python3.6/dist-packages (0.0.6)\n",
            "Requirement already satisfied: numpy>=1.15.4 in /usr/local/lib/python3.6/dist-packages (from fuzzy-c-means) (1.18.5)\n",
            "Requirement already satisfied: scipy>=1.1.0 in /usr/local/lib/python3.6/dist-packages (from fuzzy-c-means) (1.4.1)\n"
          ],
          "name": "stdout"
        }
      ]
    },
    {
      "cell_type": "code",
      "metadata": {
        "id": "CzfW0KyYJqdi",
        "colab_type": "code",
        "colab": {}
      },
      "source": [
        "import cv2\n",
        "import numpy as np\n",
        "import math\n",
        "import bisect\n",
        "from google.colab.patches import cv2_imshow\n",
        "from skimage import morphology\n",
        "from sklearn.cluster import KMeans\n",
        "from fcmeans import FCM\n",
        "\n",
        "def imadjust(src, tol=1, vin=[0,255], vout=(0,255)):\n",
        "    # src : input one-layer image (numpy array)\n",
        "    # tol : tolerance, from 0 to 100.\n",
        "    # vin  : src image bounds\n",
        "    # vout : dst image bounds\n",
        "    # return : output img\n",
        "\n",
        "    dst = src.copy()\n",
        "    tol = max(0, min(100, tol))\n",
        "\n",
        "    if tol > 0:\n",
        "        # Compute in and out limits\n",
        "        # Histogram\n",
        "        hist = np.zeros(256, dtype=np.int)\n",
        "        for r in range(src.shape[0]):\n",
        "            for c in range(src.shape[1]):\n",
        "                hist[src[r,c]] += 1\n",
        "        # Cumulative histogram\n",
        "        cum = hist.copy()\n",
        "        for i in range(1, len(hist)):\n",
        "            cum[i] = cum[i - 1] + hist[i]\n",
        "\n",
        "        # Compute bounds\n",
        "        total = src.shape[0] * src.shape[1]\n",
        "        low_bound = total * tol / 100\n",
        "        upp_bound = total * (100 - tol) / 100\n",
        "        vin[0] = bisect.bisect_left(cum, low_bound)\n",
        "        vin[1] = bisect.bisect_left(cum, upp_bound)\n",
        "\n",
        "    # Stretching\n",
        "    scale = (vout[1] - vout[0]) / (vin[1] - vin[0])\n",
        "    for r in range(dst.shape[0]):\n",
        "        for c in range(dst.shape[1]):\n",
        "            vs = max(src[r,c] - vin[0], 0)\n",
        "            vd = min(int(vs * scale + 0.5) + vout[0], vout[1])\n",
        "            dst[r,c] = vd\n",
        "    return dst\n",
        "\n",
        "def matlab_fspecial(typex = \"motion\", len = 9, theta = 0):\n",
        "  # h = fspecial('motion',len,theta)\n",
        "  if typex == 'motion':\n",
        "    # Create the vertical kernel. \n",
        "    kernel_v = np.zeros((len, theta)) \n",
        "\n",
        "    # Fill the middle row with ones. \n",
        "    kernel_v[:, int((kernel_size - 1)/2)] = np.ones(kernel_size) \n",
        "\n",
        "    # Normalize. \n",
        "    kernel_v /= kernel_size \n",
        "\n",
        "    # Apply the vertical kernel. \n",
        "    motion_blur = cv2.filter2D(img, -1, kernel_v) \n",
        "    return motion_blur\n",
        "\n",
        "# equal to mat2gray on matlab \n",
        "# https://stackoverflow.com/questions/39808545/implement-mat2gray-in-opencv-with-python\n",
        "def matlab_mat2gray(A, alpha = False, beta = False):\n",
        "  if not alpha:\n",
        "    alpha = min(A.flatten())\n",
        "  else:\n",
        "    alpha = 0\n",
        "    \n",
        "  if not beta:\n",
        "    beta = max(A.flatten())\n",
        "  else:\n",
        "    beta = 255\n",
        "\n",
        "  I = A\n",
        "  cv2.normalize(A, I, alpha , beta ,cv2.NORM_MINMAX)\n",
        "  I = np.uint8(I)\n",
        "  return I\n",
        "\n",
        "def matlab_strel_disk(r1):\n",
        "  from skimage.morphology import disk\n",
        "\n",
        "  mask = disk(r1)\n",
        "  return mask\n",
        "\n",
        "def matlab_strel_ball(r1,r2):\n",
        "  from skimage.morphology import (octagon)\n",
        "\n",
        "  mask = octagon(r1,r2)\n",
        "  return mask"
      ],
      "execution_count": null,
      "outputs": []
    },
    {
      "cell_type": "code",
      "metadata": {
        "id": "BsXzROxcL1Fz",
        "colab_type": "code",
        "colab": {}
      },
      "source": [
        "# function to resize image \n",
        "def resize_img(file, size = 200):\n",
        "  nrows = (np.shape(file)[0])  # image height \n",
        "  ncols = (np.shape(file)[1]) \n",
        "  ratio = nrows/ncols\n",
        "  t_width = size\n",
        "  t_height = math.ceil(t_width * ratio)\n",
        "  return cv2.resize(file, (t_width, t_height))\n",
        "\n",
        "# get filename from path\n",
        "def getfilename(path, ext = False):\n",
        "  import ntpath\n",
        "  import os\n",
        "  if ext:\n",
        "    return ntpath.basename(path)\n",
        "  else:\n",
        "    return os.path.splitext(ntpath.basename(path))[0]\n",
        "\n",
        "def scanFolder(path = './', max_file_each_folder = \"all\", verbose = False):\n",
        "  import os.path # untuk cek file\n",
        "  \n",
        "  files_path = []\n",
        "  in_folder = []\n",
        "  total_files = str(sum([len(f2)-len(d2) for r2, d2, f2 in os.walk(path)]))\n",
        "  \n",
        "  # r=root, d=directories, f = files\n",
        "  for r, d, f in os.walk(path):\n",
        "    # cut f\n",
        "    if max_file_each_folder != \"all\":\n",
        "      f = f[:int(max_file_each_folder)]\n",
        "    \n",
        "    for file in f:\n",
        "      if (file.find('.png') > -1 or file.find('.jpg') > -1 or file.find('.tif') > -1):\n",
        "        files_path.append(os.path.join(r, file))\n",
        "        in_folder.append(os.path.basename(os.path.dirname(files_path[-1]))) \n",
        "  \n",
        "  if verbose:\n",
        "    for f, i in zip(files_path, in_folder):\n",
        "      print(f)\n",
        "      print(i)\n",
        "\n",
        "  # ret\n",
        "  file_scanned = str(len(files_path))\n",
        "\n",
        "  return files_path, in_folder, total_files, file_scanned\n",
        "  # // END OF scanFolder"
      ],
      "execution_count": null,
      "outputs": []
    },
    {
      "cell_type": "code",
      "metadata": {
        "id": "awACuG-ze31c",
        "colab_type": "code",
        "colab": {}
      },
      "source": [
        "def dice_coefficient(ground_truth, segmented_img): \n",
        "\n",
        "  verbose_mode = False #debug\n",
        "\n",
        "  # calculating dice \n",
        "  nrows = (np.shape(ground_truth)[0])  # image height \n",
        "  ncols = (np.shape(ground_truth)[1]) \n",
        "\n",
        "  # try agai n\n",
        "  iGT = ground_truth\n",
        "  iPM = segmented_img\n",
        "  iTP = cv2.bitwise_and(iGT, iPM)\n",
        "  iFN = np.subtract(iGT,iTP)\n",
        "  iFP = np.subtract(iPM,iTP)\n",
        "  iTN = cv2.bitwise_not(cv2.bitwise_or(iGT, iPM))\n",
        "\n",
        "  # sum \n",
        "  FN = np.sum(iFN)/255\n",
        "  FP = np.sum(iFP)/255\n",
        "  TP = np.sum(iTP)/255\n",
        "  TN = np.sum(iTN)/255\n",
        "\n",
        "  # hasil lebih detail\n",
        "  acc = (TP+TN)/(TP+TN+FP+FN) \n",
        "  spec = TN/(TN+FP)\n",
        "  prec = TP/(TP+FP)\n",
        "  recall = TP/(TP+FN)\n",
        "  j = (((TP+TN)/(TP+TN+FP+FN))-((((TP+FN)*(TP+FP))+((TN+FN)*(TN+FP)))/(TP+TN+FP+FN)**2))/(1-((((TP+FN)*(TP+FP))+((TN+FN)*(TN+FP)))/(TP+TN+FP+FN)**2))\n",
        "  dc = (2*TP)/(2*(TP+FP+FN))\n",
        "\n",
        "  # hasil dice coef\n",
        "  import pandas as pd\n",
        "  from IPython.display import display, HTML\n",
        "\n",
        "  df = pd.DataFrame(\n",
        "      {\n",
        "          \"Pred. (1)\": [str(TP) + \" (TP)\", str(FP)  + \" (FP)\"],\n",
        "          \"Pred. (0)\": [str(FN) + \" (FN)\", str(TN)  + \" (TN)\"]\n",
        "      },index=[\"Actu. (1)\", \"Actu. (0)\"])\n",
        "  display(HTML(df.to_html()))\n",
        "  \n",
        "\n",
        "\n",
        "  df = pd.DataFrame(\n",
        "      {\n",
        "          \"Accuracy (A)\": [acc],\n",
        "          \"Specificity (S)\": [spec],\n",
        "          \"Precision (P)\": [prec],\n",
        "          \"Recall (R)\": [recall],\n",
        "          \"Kappa Index (J)\": [j],\n",
        "          \"Dice coefficiet (DC),\": [dc],\n",
        "      })\n",
        "  display(HTML(df.to_html()))\n",
        "\n",
        "  # showing image \n",
        "  if verbose_mode:\n",
        "    # show\n",
        "    print(\"(a) FN = Ground Truth\")\n",
        "    cv2_imshow(resize_img(iFN,500))\n",
        "    print(\"(b) FP = Segmented Image\")\n",
        "    cv2_imshow(resize_img(iFP,500))\n",
        "    print(\"(c) TP = Correct Region\")\n",
        "    cv2_imshow(resize_img(iTP,500))\n",
        "    print(\"(d) TN = True Negative\")\n",
        "    cv2_imshow(resize_img(iTN,500))\n",
        "  return df"
      ],
      "execution_count": null,
      "outputs": []
    },
    {
      "cell_type": "code",
      "metadata": {
        "id": "H6oVuVl1a62F",
        "colab_type": "code",
        "colab": {}
      },
      "source": [
        "# original script of vogado's segmentation method\n",
        "# clustering using k-means\n",
        "def wbc_vogado(f, debug_mode = False):\n",
        "  image_lab = int(0)\n",
        "  image_rgb = f  # send into figure (a)]\n",
        "\n",
        "  # time measurement \n",
        "  import time\n",
        "  start_time = time.time()\n",
        "\n",
        "  # pre-processing step, convert rgb into CIELAB (L*a*b)\n",
        "  image_lab = cv2.cvtColor(image_rgb, cv2.COLOR_BGR2Lab);\n",
        "  L = image_lab[:,:,0]\n",
        "  A = image_lab[:,:,1]\n",
        "  B = image_lab[:,:,2] # the bcomponent\n",
        "  lab_y = B # send into figure (c)\n",
        "\n",
        "  AD = cv2.add(L,B)\n",
        "\n",
        "  # f (bgr)\n",
        "  r = f[:,:,2] # red channel (rgb)\n",
        "  r = imadjust(r)\n",
        "  g = f[:,:,1]\n",
        "  g = imadjust(g)\n",
        "  b = f[:,:,0]\n",
        "  b = imadjust(b)\n",
        "  c = np.subtract(255,r)\n",
        "  c = imadjust(c)\n",
        "  m = np.subtract(255,g)\n",
        "\n",
        "  cmyk_m = m # send into figure (b)\n",
        "  m = cv2.blur(m,(10,10)) # updated in 13/04/2016 - 6:15\n",
        "  cmyk_m_con_med  = m # send into figure (d)\n",
        "  m = imadjust(m)\n",
        "  y = np.subtract(255,b)\n",
        "  y = imadjust(y)\n",
        "  AD = matlab_mat2gray(B)\n",
        "  AD = cv2.medianBlur(AD,7)\n",
        "  lab_y_con_med = AD # send into figure (e)\n",
        "\n",
        "  # subtract the M and b\n",
        "  sub = cv2.subtract(m,AD)\n",
        "  img_subt = sub #  send into figure (f)\n",
        "  CMY = np.stack((c,m,y), axis=2) \n",
        "  F = np.stack((r, g, b), axis=2)\n",
        "  ab = CMY # generate CMY color model\n",
        "  nrows = (np.shape(f)[0])  # image height \n",
        "  ncols = (np.shape(f)[1]) \n",
        "\n",
        "  # reshape into one single array\n",
        "  ab = ab.flatten()\n",
        "  x = nrows\n",
        "  y = ncols\n",
        "  data = sub.flatten() # sub = result of subtraction M and b, put them into one long array\n",
        "\n",
        "  ## step 2 - clustering\n",
        "  nColors = 3  # Number of clusters (k)\n",
        "  kmeans = KMeans(n_clusters=nColors, random_state=0)\n",
        "  kmeans.fit_predict(data.reshape(-1, 1))\n",
        "  # cluster_idx, cluster_center =  kmeans.cluster_centers_\n",
        "  cluster_idx = kmeans.labels_ # index result of kmeans\n",
        "  cluster_center = kmeans.cluster_centers_ #  position of cluster center\n",
        "  pixel_labels = np.reshape(cluster_idx, (nrows, ncols));\n",
        "  pixel_labels = np.uint8(pixel_labels)\n",
        " \n",
        "  # the problem is here, \n",
        "  tmp =  np.sort(cluster_center.flatten())\n",
        "  idx = np.zeros((len(tmp), 1))\n",
        "  for i in range(len(tmp)):\n",
        "    idx[i] = cluster_center.tolist().index(tmp[i])\n",
        "\n",
        "  nuclei_cluster = idx[2] # sort asc, nuclei cluster is always who has higher value\n",
        "  A = np.zeros((nrows, ncols), dtype=np.uint8)\n",
        "\n",
        "  # print(np.shape(A))\n",
        "  for row in range(nrows):\n",
        "    for col in range(ncols):\n",
        "      # print(\" pixel_labels[row,col] = \",  row, col)\n",
        "      if pixel_labels[row,col] == nuclei_cluster:\n",
        "        A[row,col] = 255\n",
        "      else:\n",
        "        A[row,col] = 0\n",
        "\n",
        "  ## step 3 - post-processing\n",
        "  img_clustering = A # send into figure (x)\n",
        "  img_clustering = imadjust(img_clustering)\n",
        "\n",
        "  sed = matlab_strel_disk(7) # disk\n",
        "  see = matlab_strel_ball(3,3) #circle \n",
        "\n",
        "  A = cv2.dilate(A,sed)\n",
        "  # erosion\n",
        "  A = cv2.erode(A, see)  \n",
        "  # remove area < 800px \n",
        "  A = morphology.area_opening(A, area_threshold=800*3, connectivity=1) # vogado mention he use 800px\n",
        "  img_morpho = A # send into figure (g)\n",
        "\n",
        "  # debug mode \n",
        "  if(debug_mode):\n",
        "    # resize image into width 200px \n",
        "    ratio = ncols/nrows\n",
        "    t_width = 200\n",
        "    t_height = math.ceil(t_width * ratio)\n",
        "\n",
        "    print(\"(a) Original\")\n",
        "    cv2_imshow(resize_img(image_rgb, t_width))\n",
        "\n",
        "    print(\"(b) M from CMYK\")\n",
        "    cv2_imshow(resize_img(cmyk_m, t_width))\n",
        "\n",
        "    print(\"(c) *b from CIELAB\")\n",
        "    cv2_imshow(resize_img(lab_y, t_width))\n",
        "\n",
        "    print(\"(d) M con adj + med(7x7)\")\n",
        "    cv2_imshow(resize_img(cmyk_m_con_med, t_width))\n",
        "\n",
        "    print(\"(e) *b con adj + med(7x7)\")\n",
        "    cv2_imshow(resize_img(lab_y_con_med, t_width))\n",
        "\n",
        "    print(\"(f) *b - M\")\n",
        "    cv2_imshow(resize_img(img_subt, t_width))\n",
        "\n",
        "    print(\"(x) clustering\" )\n",
        "    cv2_imshow(resize_img(img_clustering, t_width))\n",
        "\n",
        "    print(\"(g)  Morphological Ops.\")\n",
        "    cv2_imshow(resize_img(img_morpho, t_width))\n",
        "\n",
        "  print(\"--- %s seconds ---\" % (time.time() - start_time))\n",
        "  return img_morpho"
      ],
      "execution_count": null,
      "outputs": []
    },
    {
      "cell_type": "code",
      "metadata": {
        "id": "fSBpWcIlZ5VG",
        "colab_type": "code",
        "colab": {}
      },
      "source": [
        "# modified vogado's segmentaion\n",
        "# segmentation: fcm\n",
        "def wbc_vogado_modified(f, debug_mode = False):\n",
        "  image_lab = int(0)\n",
        "  image_rgb = f  # send into figure (a)\n",
        "\n",
        "  # time measurement \n",
        "  import time\n",
        "  start_time = time.time()\n",
        "\n",
        "  # pre-processing step, convert rgb into CIELAB (L*a*b)\n",
        "  image_lab = cv2.cvtColor(image_rgb, cv2.COLOR_BGR2Lab);\n",
        "  L = image_lab[:,:,0]\n",
        "  A = image_lab[:,:,1]\n",
        "  B = image_lab[:,:,2] # the bcomponent\n",
        "  lab_y = B # send into figure (c)\n",
        "\n",
        "  AD = cv2.add(L,B)\n",
        "\n",
        "  # f (bgr)\n",
        "  r = f[:,:,2] # red channel (rgb)\n",
        "  r = imadjust(r)\n",
        "  g = f[:,:,1]\n",
        "  g = imadjust(g)\n",
        "  b = f[:,:,0]\n",
        "  b = imadjust(b)\n",
        "  c = np.subtract(255,r)\n",
        "  c = imadjust(c)\n",
        "  m = np.subtract(255,g)\n",
        "\n",
        "  cmyk_m = m # send into figure (b)\n",
        "\n",
        "  # add median filter into M component of CMYK\n",
        "  m = cv2.blur(m,(10,10)) # updated in 13/04/2016 - 6:15\n",
        "  cmyk_m_con_med  = m # send into figure (d)\n",
        "  m = imadjust(m)\n",
        "  y = np.subtract(255,b)\n",
        "  y = imadjust(y)\n",
        "  AD = matlab_mat2gray(B)\n",
        "  AD = cv2.medianBlur(AD,7)\n",
        "  lab_y_con_med = AD # send into figure (e)\n",
        "  \n",
        "  # subtract the M and b\n",
        "  sub = cv2.subtract(m,AD)\n",
        "  img_subt = sub #  send into figure (f)\n",
        "  CMY = np.stack((c,m,y), axis=2) \n",
        "  F = np.stack((r, g, b), axis=2)\n",
        "\n",
        "  ab = CMY # generate CMY color model\n",
        "  nrows = (np.shape(f)[0])  # image height \n",
        "  ncols = (np.shape(f)[1]) \n",
        "\n",
        "  # reshape into one single array\n",
        "  ab = ab.flatten()\n",
        "  x = nrows\n",
        "  y = ncols\n",
        "  data = sub.flatten() # sub = result of subtraction M and b, put them into one long array\n",
        "\n",
        "  ## step 2 - clustering\n",
        "  nColors = 3  # Number of clusters (k)\n",
        "\n",
        "  # fit the fuzzy-c-means\n",
        "  fcm = FCM(n_clusters=nColors)\n",
        "  fcm.fit(data.reshape(-1, 1))\n",
        "\n",
        "  # outputs\n",
        "  cluster_idx  = fcm.u.argmax(axis=1)\n",
        "  cluster_center = fcm.centers\n",
        "  kmeans = fcm\n",
        "\n",
        "  pixel_labels = np.reshape(cluster_idx, (nrows, ncols));\n",
        "  pixel_labels = np.uint8(pixel_labels)\n",
        " \n",
        "  # the problem is here, \n",
        "  tmp =  np.sort(cluster_center.flatten())\n",
        "  idx = np.zeros((len(tmp), 1))\n",
        "  for i in range(len(tmp)):\n",
        "    idx[i] = cluster_center.tolist().index(tmp[i])\n",
        "  nuclei_cluster = idx[2] # sort asc, nuclei cluster is always who has higher value\n",
        "  A = np.zeros((nrows, ncols), dtype=np.uint8)\n",
        "\n",
        "  # print(np.shape(A))\n",
        "  for row in range(nrows):\n",
        "    for col in range(ncols):\n",
        "      # print(\" pixel_labels[row,col] = \",  row, col)\n",
        "      if pixel_labels[row,col] == nuclei_cluster:\n",
        "        A[row,col] = 255\n",
        "      else:\n",
        "        A[row,col] = 0\n",
        "\n",
        "  ## step 3 - post-processing\n",
        "  img_clustering = A # send into figure (x)\n",
        "  img_clustering = imadjust(img_clustering)\n",
        "\n",
        "  # dilation (thing goes weird here)\n",
        "  sed = matlab_strel_disk(7) # disk\n",
        "  see = matlab_strel_ball(3,3) #circle \n",
        "  A = cv2.dilate(A,sed)\n",
        "  # erosion\n",
        "  A = cv2.erode(A, see)  \n",
        "  # remove area < 800px \n",
        "  A = morphology.area_opening(A, area_threshold=800*3, connectivity=1) # vogado mention he use 800px\n",
        "  img_morpho = A # send into figure (g)\n",
        "\n",
        "  # debug mode \n",
        "  if(debug_mode):\n",
        "    # resize image into width 200px \n",
        "    ratio = ncols/nrows\n",
        "    t_width = 200\n",
        "    t_height = math.ceil(t_width * ratio)\n",
        "    print(\"(a) Original\")\n",
        "    cv2_imshow(resize_img(image_rgb, t_width))\n",
        "    print(\"(b) M from CMYK\")\n",
        "    cv2_imshow(resize_img(cmyk_m, t_width))\n",
        "    print(\"(c) *b from CIELAB\")\n",
        "    cv2_imshow(resize_img(lab_y, t_width))\n",
        "    print(\"(d) M con adj + med(7x7)\")\n",
        "    cv2_imshow(resize_img(cmyk_m_con_med, t_width))\n",
        "    print(\"(e) *b con adj + med(7x7)\")\n",
        "    cv2_imshow(resize_img(lab_y_con_med, t_width))\n",
        "    print(\"(f) *b - M\")\n",
        "    cv2_imshow(resize_img(img_subt, t_width))\n",
        "    print(\"(x) clustering\")\n",
        "    cv2_imshow(resize_img(img_clustering, t_width))\n",
        "    print(\"(g)  Morphological Ops.\")\n",
        "    cv2_imshow(resize_img(img_morpho, t_width))\n",
        "\n",
        "  print(\"--- %s seconds ---\" % (time.time() - start_time))\n",
        "  return img_morpho"
      ],
      "execution_count": null,
      "outputs": []
    },
    {
      "cell_type": "code",
      "metadata": {
        "id": "X9NzVN7Tj835",
        "colab_type": "code",
        "colab": {
          "base_uri": "https://localhost:8080/",
          "height": 1000
        },
        "outputId": "fc4a9e22-1a7d-4d94-f1bf-0298a4d9ccdf"
      },
      "source": [
        "# SET THIS \n",
        "# path = folder contain image dataset and groundtruth\n",
        "# gt_path = ground truth folder inside active dir\n",
        "# data = data folder inside active dir\n",
        "path = \"drive/My Drive/ALL-IDB2/\"\n",
        "gt_path = path + \"gt/\"\n",
        "target_path = path + \"data/\"\n",
        "\n",
        "# here the loop \n",
        "# scanFolder(target_path, <limit image tested [\"all\"/int]>, <verbose>)\n",
        "files_path, in_folder, total_files, file_scanned = scanFolder(target_path, \"all\", 0)\n",
        "for f in files_path:\n",
        "  original_image = cv2.imread(f)\n",
        "\n",
        "  # load grount truth \n",
        "  gt_file_path = gt_path + getfilename(f) + \".png\"\n",
        "  gt_image = cv2.imread(gt_file_path)\n",
        "\n",
        "  # convert gt into binary \n",
        "  gray = cv2.cvtColor(gt_image, cv2.COLOR_BGR2GRAY)\n",
        "  (thresh, gt_image) = cv2.threshold(gray, 1, 255, cv2.THRESH_BINARY)\n",
        "  \n",
        "  # calculte dc\n",
        "  print(\"kmeans:\")\n",
        "  kmeans = wbc_vogado(original_image, False)\n",
        "  kmeans_dc = dice_coefficient(gt_image, kmeans)\n",
        "\n",
        "  print(\"fcm:\")\n",
        "  fcm = wbc_vogado_modified(original_image, False) \n",
        "  fcm_dc = dice_coefficient(gt_image, fcm)\n",
        "\n",
        "  # show gt_image \n",
        "  # cv2_imshow(resize_img(original_image,400))\n",
        "  # cv2_imshow(resize_img(gt_image,400))\n",
        "  # cv2_imshow(resize_img(kmeans,400))\n",
        "  # cv2_imshow(resize_img(fcm,400))"
      ],
      "execution_count": null,
      "outputs": [
        {
          "output_type": "stream",
          "text": [
            "kmeans:\n",
            "--- 3.528958797454834 seconds ---\n"
          ],
          "name": "stdout"
        },
        {
          "output_type": "display_data",
          "data": {
            "text/html": [
              "<table border=\"1\" class=\"dataframe\">\n",
              "  <thead>\n",
              "    <tr style=\"text-align: right;\">\n",
              "      <th></th>\n",
              "      <th>Pred. (1)</th>\n",
              "      <th>Pred. (0)</th>\n",
              "    </tr>\n",
              "  </thead>\n",
              "  <tbody>\n",
              "    <tr>\n",
              "      <th>Actu. (1)</th>\n",
              "      <td>14948.0 (TP)</td>\n",
              "      <td>2222.0 (FN)</td>\n",
              "    </tr>\n",
              "    <tr>\n",
              "      <th>Actu. (0)</th>\n",
              "      <td>328.0 (FP)</td>\n",
              "      <td>48551.0 (TN)</td>\n",
              "    </tr>\n",
              "  </tbody>\n",
              "</table>"
            ],
            "text/plain": [
              "<IPython.core.display.HTML object>"
            ]
          },
          "metadata": {
            "tags": []
          }
        },
        {
          "output_type": "display_data",
          "data": {
            "text/html": [
              "<table border=\"1\" class=\"dataframe\">\n",
              "  <thead>\n",
              "    <tr style=\"text-align: right;\">\n",
              "      <th></th>\n",
              "      <th>Accuracy (A)</th>\n",
              "      <th>Specificity (S)</th>\n",
              "      <th>Precision (P)</th>\n",
              "      <th>Recall (R)</th>\n",
              "      <th>Kappa Index (J)</th>\n",
              "      <th>Dice coefficiet (DC),</th>\n",
              "    </tr>\n",
              "  </thead>\n",
              "  <tbody>\n",
              "    <tr>\n",
              "      <th>0</th>\n",
              "      <td>0.961392</td>\n",
              "      <td>0.99329</td>\n",
              "      <td>0.978528</td>\n",
              "      <td>0.870588</td>\n",
              "      <td>0.895934</td>\n",
              "      <td>0.854269</td>\n",
              "    </tr>\n",
              "  </tbody>\n",
              "</table>"
            ],
            "text/plain": [
              "<IPython.core.display.HTML object>"
            ]
          },
          "metadata": {
            "tags": []
          }
        },
        {
          "output_type": "stream",
          "text": [
            "fcm:\n",
            "--- 3.9479758739471436 seconds ---\n"
          ],
          "name": "stdout"
        },
        {
          "output_type": "display_data",
          "data": {
            "text/html": [
              "<table border=\"1\" class=\"dataframe\">\n",
              "  <thead>\n",
              "    <tr style=\"text-align: right;\">\n",
              "      <th></th>\n",
              "      <th>Pred. (1)</th>\n",
              "      <th>Pred. (0)</th>\n",
              "    </tr>\n",
              "  </thead>\n",
              "  <tbody>\n",
              "    <tr>\n",
              "      <th>Actu. (1)</th>\n",
              "      <td>14886.0 (TP)</td>\n",
              "      <td>2284.0 (FN)</td>\n",
              "    </tr>\n",
              "    <tr>\n",
              "      <th>Actu. (0)</th>\n",
              "      <td>296.0 (FP)</td>\n",
              "      <td>48583.0 (TN)</td>\n",
              "    </tr>\n",
              "  </tbody>\n",
              "</table>"
            ],
            "text/plain": [
              "<IPython.core.display.HTML object>"
            ]
          },
          "metadata": {
            "tags": []
          }
        },
        {
          "output_type": "display_data",
          "data": {
            "text/html": [
              "<table border=\"1\" class=\"dataframe\">\n",
              "  <thead>\n",
              "    <tr style=\"text-align: right;\">\n",
              "      <th></th>\n",
              "      <th>Accuracy (A)</th>\n",
              "      <th>Specificity (S)</th>\n",
              "      <th>Precision (P)</th>\n",
              "      <th>Recall (R)</th>\n",
              "      <th>Kappa Index (J)</th>\n",
              "      <th>Dice coefficiet (DC),</th>\n",
              "    </tr>\n",
              "  </thead>\n",
              "  <tbody>\n",
              "    <tr>\n",
              "      <th>0</th>\n",
              "      <td>0.960938</td>\n",
              "      <td>0.993944</td>\n",
              "      <td>0.980503</td>\n",
              "      <td>0.866977</td>\n",
              "      <td>0.894516</td>\n",
              "      <td>0.852284</td>\n",
              "    </tr>\n",
              "  </tbody>\n",
              "</table>"
            ],
            "text/plain": [
              "<IPython.core.display.HTML object>"
            ]
          },
          "metadata": {
            "tags": []
          }
        },
        {
          "output_type": "stream",
          "text": [
            "kmeans:\n",
            "--- 3.5136263370513916 seconds ---\n"
          ],
          "name": "stdout"
        },
        {
          "output_type": "display_data",
          "data": {
            "text/html": [
              "<table border=\"1\" class=\"dataframe\">\n",
              "  <thead>\n",
              "    <tr style=\"text-align: right;\">\n",
              "      <th></th>\n",
              "      <th>Pred. (1)</th>\n",
              "      <th>Pred. (0)</th>\n",
              "    </tr>\n",
              "  </thead>\n",
              "  <tbody>\n",
              "    <tr>\n",
              "      <th>Actu. (1)</th>\n",
              "      <td>14965.0 (TP)</td>\n",
              "      <td>1126.0 (FN)</td>\n",
              "    </tr>\n",
              "    <tr>\n",
              "      <th>Actu. (0)</th>\n",
              "      <td>603.0 (FP)</td>\n",
              "      <td>49355.0 (TN)</td>\n",
              "    </tr>\n",
              "  </tbody>\n",
              "</table>"
            ],
            "text/plain": [
              "<IPython.core.display.HTML object>"
            ]
          },
          "metadata": {
            "tags": []
          }
        },
        {
          "output_type": "display_data",
          "data": {
            "text/html": [
              "<table border=\"1\" class=\"dataframe\">\n",
              "  <thead>\n",
              "    <tr style=\"text-align: right;\">\n",
              "      <th></th>\n",
              "      <th>Accuracy (A)</th>\n",
              "      <th>Specificity (S)</th>\n",
              "      <th>Precision (P)</th>\n",
              "      <th>Recall (R)</th>\n",
              "      <th>Kappa Index (J)</th>\n",
              "      <th>Dice coefficiet (DC),</th>\n",
              "    </tr>\n",
              "  </thead>\n",
              "  <tbody>\n",
              "    <tr>\n",
              "      <th>0</th>\n",
              "      <td>0.973822</td>\n",
              "      <td>0.98793</td>\n",
              "      <td>0.961267</td>\n",
              "      <td>0.930023</td>\n",
              "      <td>0.928179</td>\n",
              "      <td>0.89643</td>\n",
              "    </tr>\n",
              "  </tbody>\n",
              "</table>"
            ],
            "text/plain": [
              "<IPython.core.display.HTML object>"
            ]
          },
          "metadata": {
            "tags": []
          }
        },
        {
          "output_type": "stream",
          "text": [
            "fcm:\n",
            "--- 4.350937843322754 seconds ---\n"
          ],
          "name": "stdout"
        },
        {
          "output_type": "display_data",
          "data": {
            "text/html": [
              "<table border=\"1\" class=\"dataframe\">\n",
              "  <thead>\n",
              "    <tr style=\"text-align: right;\">\n",
              "      <th></th>\n",
              "      <th>Pred. (1)</th>\n",
              "      <th>Pred. (0)</th>\n",
              "    </tr>\n",
              "  </thead>\n",
              "  <tbody>\n",
              "    <tr>\n",
              "      <th>Actu. (1)</th>\n",
              "      <td>14574.0 (TP)</td>\n",
              "      <td>1517.0 (FN)</td>\n",
              "    </tr>\n",
              "    <tr>\n",
              "      <th>Actu. (0)</th>\n",
              "      <td>502.0 (FP)</td>\n",
              "      <td>49456.0 (TN)</td>\n",
              "    </tr>\n",
              "  </tbody>\n",
              "</table>"
            ],
            "text/plain": [
              "<IPython.core.display.HTML object>"
            ]
          },
          "metadata": {
            "tags": []
          }
        },
        {
          "output_type": "display_data",
          "data": {
            "text/html": [
              "<table border=\"1\" class=\"dataframe\">\n",
              "  <thead>\n",
              "    <tr style=\"text-align: right;\">\n",
              "      <th></th>\n",
              "      <th>Accuracy (A)</th>\n",
              "      <th>Specificity (S)</th>\n",
              "      <th>Precision (P)</th>\n",
              "      <th>Recall (R)</th>\n",
              "      <th>Kappa Index (J)</th>\n",
              "      <th>Dice coefficiet (DC),</th>\n",
              "    </tr>\n",
              "  </thead>\n",
              "  <tbody>\n",
              "    <tr>\n",
              "      <th>0</th>\n",
              "      <td>0.969432</td>\n",
              "      <td>0.989952</td>\n",
              "      <td>0.966702</td>\n",
              "      <td>0.905724</td>\n",
              "      <td>0.915244</td>\n",
              "      <td>0.878322</td>\n",
              "    </tr>\n",
              "  </tbody>\n",
              "</table>"
            ],
            "text/plain": [
              "<IPython.core.display.HTML object>"
            ]
          },
          "metadata": {
            "tags": []
          }
        },
        {
          "output_type": "stream",
          "text": [
            "kmeans:\n",
            "--- 3.523193836212158 seconds ---\n"
          ],
          "name": "stdout"
        },
        {
          "output_type": "display_data",
          "data": {
            "text/html": [
              "<table border=\"1\" class=\"dataframe\">\n",
              "  <thead>\n",
              "    <tr style=\"text-align: right;\">\n",
              "      <th></th>\n",
              "      <th>Pred. (1)</th>\n",
              "      <th>Pred. (0)</th>\n",
              "    </tr>\n",
              "  </thead>\n",
              "  <tbody>\n",
              "    <tr>\n",
              "      <th>Actu. (1)</th>\n",
              "      <td>8537.0 (TP)</td>\n",
              "      <td>4234.0 (FN)</td>\n",
              "    </tr>\n",
              "    <tr>\n",
              "      <th>Actu. (0)</th>\n",
              "      <td>1239.0 (FP)</td>\n",
              "      <td>52039.0 (TN)</td>\n",
              "    </tr>\n",
              "  </tbody>\n",
              "</table>"
            ],
            "text/plain": [
              "<IPython.core.display.HTML object>"
            ]
          },
          "metadata": {
            "tags": []
          }
        },
        {
          "output_type": "display_data",
          "data": {
            "text/html": [
              "<table border=\"1\" class=\"dataframe\">\n",
              "  <thead>\n",
              "    <tr style=\"text-align: right;\">\n",
              "      <th></th>\n",
              "      <th>Accuracy (A)</th>\n",
              "      <th>Specificity (S)</th>\n",
              "      <th>Precision (P)</th>\n",
              "      <th>Recall (R)</th>\n",
              "      <th>Kappa Index (J)</th>\n",
              "      <th>Dice coefficiet (DC),</th>\n",
              "    </tr>\n",
              "  </thead>\n",
              "  <tbody>\n",
              "    <tr>\n",
              "      <th>0</th>\n",
              "      <td>0.917137</td>\n",
              "      <td>0.976745</td>\n",
              "      <td>0.873261</td>\n",
              "      <td>0.668468</td>\n",
              "      <td>0.708363</td>\n",
              "      <td>0.60935</td>\n",
              "    </tr>\n",
              "  </tbody>\n",
              "</table>"
            ],
            "text/plain": [
              "<IPython.core.display.HTML object>"
            ]
          },
          "metadata": {
            "tags": []
          }
        },
        {
          "output_type": "stream",
          "text": [
            "fcm:\n",
            "--- 4.014300346374512 seconds ---\n"
          ],
          "name": "stdout"
        },
        {
          "output_type": "display_data",
          "data": {
            "text/html": [
              "<table border=\"1\" class=\"dataframe\">\n",
              "  <thead>\n",
              "    <tr style=\"text-align: right;\">\n",
              "      <th></th>\n",
              "      <th>Pred. (1)</th>\n",
              "      <th>Pred. (0)</th>\n",
              "    </tr>\n",
              "  </thead>\n",
              "  <tbody>\n",
              "    <tr>\n",
              "      <th>Actu. (1)</th>\n",
              "      <td>8374.0 (TP)</td>\n",
              "      <td>4397.0 (FN)</td>\n",
              "    </tr>\n",
              "    <tr>\n",
              "      <th>Actu. (0)</th>\n",
              "      <td>1190.0 (FP)</td>\n",
              "      <td>52088.0 (TN)</td>\n",
              "    </tr>\n",
              "  </tbody>\n",
              "</table>"
            ],
            "text/plain": [
              "<IPython.core.display.HTML object>"
            ]
          },
          "metadata": {
            "tags": []
          }
        },
        {
          "output_type": "display_data",
          "data": {
            "text/html": [
              "<table border=\"1\" class=\"dataframe\">\n",
              "  <thead>\n",
              "    <tr style=\"text-align: right;\">\n",
              "      <th></th>\n",
              "      <th>Accuracy (A)</th>\n",
              "      <th>Specificity (S)</th>\n",
              "      <th>Precision (P)</th>\n",
              "      <th>Recall (R)</th>\n",
              "      <th>Kappa Index (J)</th>\n",
              "      <th>Dice coefficiet (DC),</th>\n",
              "    </tr>\n",
              "  </thead>\n",
              "  <tbody>\n",
              "    <tr>\n",
              "      <th>0</th>\n",
              "      <td>0.915411</td>\n",
              "      <td>0.977664</td>\n",
              "      <td>0.875575</td>\n",
              "      <td>0.655704</td>\n",
              "      <td>0.700212</td>\n",
              "      <td>0.599814</td>\n",
              "    </tr>\n",
              "  </tbody>\n",
              "</table>"
            ],
            "text/plain": [
              "<IPython.core.display.HTML object>"
            ]
          },
          "metadata": {
            "tags": []
          }
        },
        {
          "output_type": "stream",
          "text": [
            "kmeans:\n",
            "--- 3.5817086696624756 seconds ---\n"
          ],
          "name": "stdout"
        },
        {
          "output_type": "display_data",
          "data": {
            "text/html": [
              "<table border=\"1\" class=\"dataframe\">\n",
              "  <thead>\n",
              "    <tr style=\"text-align: right;\">\n",
              "      <th></th>\n",
              "      <th>Pred. (1)</th>\n",
              "      <th>Pred. (0)</th>\n",
              "    </tr>\n",
              "  </thead>\n",
              "  <tbody>\n",
              "    <tr>\n",
              "      <th>Actu. (1)</th>\n",
              "      <td>8786.0 (TP)</td>\n",
              "      <td>497.0 (FN)</td>\n",
              "    </tr>\n",
              "    <tr>\n",
              "      <th>Actu. (0)</th>\n",
              "      <td>1182.0 (FP)</td>\n",
              "      <td>55584.0 (TN)</td>\n",
              "    </tr>\n",
              "  </tbody>\n",
              "</table>"
            ],
            "text/plain": [
              "<IPython.core.display.HTML object>"
            ]
          },
          "metadata": {
            "tags": []
          }
        },
        {
          "output_type": "display_data",
          "data": {
            "text/html": [
              "<table border=\"1\" class=\"dataframe\">\n",
              "  <thead>\n",
              "    <tr style=\"text-align: right;\">\n",
              "      <th></th>\n",
              "      <th>Accuracy (A)</th>\n",
              "      <th>Specificity (S)</th>\n",
              "      <th>Precision (P)</th>\n",
              "      <th>Recall (R)</th>\n",
              "      <th>Kappa Index (J)</th>\n",
              "      <th>Dice coefficiet (DC),</th>\n",
              "    </tr>\n",
              "  </thead>\n",
              "  <tbody>\n",
              "    <tr>\n",
              "      <th>0</th>\n",
              "      <td>0.974579</td>\n",
              "      <td>0.979178</td>\n",
              "      <td>0.881421</td>\n",
              "      <td>0.946461</td>\n",
              "      <td>0.897927</td>\n",
              "      <td>0.83956</td>\n",
              "    </tr>\n",
              "  </tbody>\n",
              "</table>"
            ],
            "text/plain": [
              "<IPython.core.display.HTML object>"
            ]
          },
          "metadata": {
            "tags": []
          }
        },
        {
          "output_type": "stream",
          "text": [
            "fcm:\n",
            "--- 4.687539339065552 seconds ---\n"
          ],
          "name": "stdout"
        },
        {
          "output_type": "display_data",
          "data": {
            "text/html": [
              "<table border=\"1\" class=\"dataframe\">\n",
              "  <thead>\n",
              "    <tr style=\"text-align: right;\">\n",
              "      <th></th>\n",
              "      <th>Pred. (1)</th>\n",
              "      <th>Pred. (0)</th>\n",
              "    </tr>\n",
              "  </thead>\n",
              "  <tbody>\n",
              "    <tr>\n",
              "      <th>Actu. (1)</th>\n",
              "      <td>8611.0 (TP)</td>\n",
              "      <td>672.0 (FN)</td>\n",
              "    </tr>\n",
              "    <tr>\n",
              "      <th>Actu. (0)</th>\n",
              "      <td>1019.0 (FP)</td>\n",
              "      <td>55747.0 (TN)</td>\n",
              "    </tr>\n",
              "  </tbody>\n",
              "</table>"
            ],
            "text/plain": [
              "<IPython.core.display.HTML object>"
            ]
          },
          "metadata": {
            "tags": []
          }
        },
        {
          "output_type": "display_data",
          "data": {
            "text/html": [
              "<table border=\"1\" class=\"dataframe\">\n",
              "  <thead>\n",
              "    <tr style=\"text-align: right;\">\n",
              "      <th></th>\n",
              "      <th>Accuracy (A)</th>\n",
              "      <th>Specificity (S)</th>\n",
              "      <th>Precision (P)</th>\n",
              "      <th>Recall (R)</th>\n",
              "      <th>Kappa Index (J)</th>\n",
              "      <th>Dice coefficiet (DC),</th>\n",
              "    </tr>\n",
              "  </thead>\n",
              "  <tbody>\n",
              "    <tr>\n",
              "      <th>0</th>\n",
              "      <td>0.974398</td>\n",
              "      <td>0.982049</td>\n",
              "      <td>0.894185</td>\n",
              "      <td>0.92761</td>\n",
              "      <td>0.895656</td>\n",
              "      <td>0.835857</td>\n",
              "    </tr>\n",
              "  </tbody>\n",
              "</table>"
            ],
            "text/plain": [
              "<IPython.core.display.HTML object>"
            ]
          },
          "metadata": {
            "tags": []
          }
        },
        {
          "output_type": "stream",
          "text": [
            "kmeans:\n",
            "--- 3.592733383178711 seconds ---\n"
          ],
          "name": "stdout"
        },
        {
          "output_type": "display_data",
          "data": {
            "text/html": [
              "<table border=\"1\" class=\"dataframe\">\n",
              "  <thead>\n",
              "    <tr style=\"text-align: right;\">\n",
              "      <th></th>\n",
              "      <th>Pred. (1)</th>\n",
              "      <th>Pred. (0)</th>\n",
              "    </tr>\n",
              "  </thead>\n",
              "  <tbody>\n",
              "    <tr>\n",
              "      <th>Actu. (1)</th>\n",
              "      <td>8575.0 (TP)</td>\n",
              "      <td>1130.0 (FN)</td>\n",
              "    </tr>\n",
              "    <tr>\n",
              "      <th>Actu. (0)</th>\n",
              "      <td>237.0 (FP)</td>\n",
              "      <td>56107.0 (TN)</td>\n",
              "    </tr>\n",
              "  </tbody>\n",
              "</table>"
            ],
            "text/plain": [
              "<IPython.core.display.HTML object>"
            ]
          },
          "metadata": {
            "tags": []
          }
        },
        {
          "output_type": "display_data",
          "data": {
            "text/html": [
              "<table border=\"1\" class=\"dataframe\">\n",
              "  <thead>\n",
              "    <tr style=\"text-align: right;\">\n",
              "      <th></th>\n",
              "      <th>Accuracy (A)</th>\n",
              "      <th>Specificity (S)</th>\n",
              "      <th>Precision (P)</th>\n",
              "      <th>Recall (R)</th>\n",
              "      <th>Kappa Index (J)</th>\n",
              "      <th>Dice coefficiet (DC),</th>\n",
              "    </tr>\n",
              "  </thead>\n",
              "  <tbody>\n",
              "    <tr>\n",
              "      <th>0</th>\n",
              "      <td>0.979303</td>\n",
              "      <td>0.995794</td>\n",
              "      <td>0.973105</td>\n",
              "      <td>0.883565</td>\n",
              "      <td>0.914173</td>\n",
              "      <td>0.862503</td>\n",
              "    </tr>\n",
              "  </tbody>\n",
              "</table>"
            ],
            "text/plain": [
              "<IPython.core.display.HTML object>"
            ]
          },
          "metadata": {
            "tags": []
          }
        },
        {
          "output_type": "stream",
          "text": [
            "fcm:\n",
            "--- 4.677310228347778 seconds ---\n"
          ],
          "name": "stdout"
        },
        {
          "output_type": "display_data",
          "data": {
            "text/html": [
              "<table border=\"1\" class=\"dataframe\">\n",
              "  <thead>\n",
              "    <tr style=\"text-align: right;\">\n",
              "      <th></th>\n",
              "      <th>Pred. (1)</th>\n",
              "      <th>Pred. (0)</th>\n",
              "    </tr>\n",
              "  </thead>\n",
              "  <tbody>\n",
              "    <tr>\n",
              "      <th>Actu. (1)</th>\n",
              "      <td>8451.0 (TP)</td>\n",
              "      <td>1254.0 (FN)</td>\n",
              "    </tr>\n",
              "    <tr>\n",
              "      <th>Actu. (0)</th>\n",
              "      <td>178.0 (FP)</td>\n",
              "      <td>56166.0 (TN)</td>\n",
              "    </tr>\n",
              "  </tbody>\n",
              "</table>"
            ],
            "text/plain": [
              "<IPython.core.display.HTML object>"
            ]
          },
          "metadata": {
            "tags": []
          }
        },
        {
          "output_type": "display_data",
          "data": {
            "text/html": [
              "<table border=\"1\" class=\"dataframe\">\n",
              "  <thead>\n",
              "    <tr style=\"text-align: right;\">\n",
              "      <th></th>\n",
              "      <th>Accuracy (A)</th>\n",
              "      <th>Specificity (S)</th>\n",
              "      <th>Precision (P)</th>\n",
              "      <th>Recall (R)</th>\n",
              "      <th>Kappa Index (J)</th>\n",
              "      <th>Dice coefficiet (DC),</th>\n",
              "    </tr>\n",
              "  </thead>\n",
              "  <tbody>\n",
              "    <tr>\n",
              "      <th>0</th>\n",
              "      <td>0.978319</td>\n",
              "      <td>0.996841</td>\n",
              "      <td>0.979372</td>\n",
              "      <td>0.870788</td>\n",
              "      <td>0.909357</td>\n",
              "      <td>0.855105</td>\n",
              "    </tr>\n",
              "  </tbody>\n",
              "</table>"
            ],
            "text/plain": [
              "<IPython.core.display.HTML object>"
            ]
          },
          "metadata": {
            "tags": []
          }
        },
        {
          "output_type": "stream",
          "text": [
            "kmeans:\n",
            "--- 3.585239887237549 seconds ---\n"
          ],
          "name": "stdout"
        },
        {
          "output_type": "display_data",
          "data": {
            "text/html": [
              "<table border=\"1\" class=\"dataframe\">\n",
              "  <thead>\n",
              "    <tr style=\"text-align: right;\">\n",
              "      <th></th>\n",
              "      <th>Pred. (1)</th>\n",
              "      <th>Pred. (0)</th>\n",
              "    </tr>\n",
              "  </thead>\n",
              "  <tbody>\n",
              "    <tr>\n",
              "      <th>Actu. (1)</th>\n",
              "      <td>12111.0 (TP)</td>\n",
              "      <td>2991.0 (FN)</td>\n",
              "    </tr>\n",
              "    <tr>\n",
              "      <th>Actu. (0)</th>\n",
              "      <td>1284.0 (FP)</td>\n",
              "      <td>49663.0 (TN)</td>\n",
              "    </tr>\n",
              "  </tbody>\n",
              "</table>"
            ],
            "text/plain": [
              "<IPython.core.display.HTML object>"
            ]
          },
          "metadata": {
            "tags": []
          }
        },
        {
          "output_type": "display_data",
          "data": {
            "text/html": [
              "<table border=\"1\" class=\"dataframe\">\n",
              "  <thead>\n",
              "    <tr style=\"text-align: right;\">\n",
              "      <th></th>\n",
              "      <th>Accuracy (A)</th>\n",
              "      <th>Specificity (S)</th>\n",
              "      <th>Precision (P)</th>\n",
              "      <th>Recall (R)</th>\n",
              "      <th>Kappa Index (J)</th>\n",
              "      <th>Dice coefficiet (DC),</th>\n",
              "    </tr>\n",
              "  </thead>\n",
              "  <tbody>\n",
              "    <tr>\n",
              "      <th>0</th>\n",
              "      <td>0.935275</td>\n",
              "      <td>0.974797</td>\n",
              "      <td>0.904143</td>\n",
              "      <td>0.801947</td>\n",
              "      <td>0.808909</td>\n",
              "      <td>0.739107</td>\n",
              "    </tr>\n",
              "  </tbody>\n",
              "</table>"
            ],
            "text/plain": [
              "<IPython.core.display.HTML object>"
            ]
          },
          "metadata": {
            "tags": []
          }
        },
        {
          "output_type": "stream",
          "text": [
            "fcm:\n",
            "--- 4.177422761917114 seconds ---\n"
          ],
          "name": "stdout"
        },
        {
          "output_type": "display_data",
          "data": {
            "text/html": [
              "<table border=\"1\" class=\"dataframe\">\n",
              "  <thead>\n",
              "    <tr style=\"text-align: right;\">\n",
              "      <th></th>\n",
              "      <th>Pred. (1)</th>\n",
              "      <th>Pred. (0)</th>\n",
              "    </tr>\n",
              "  </thead>\n",
              "  <tbody>\n",
              "    <tr>\n",
              "      <th>Actu. (1)</th>\n",
              "      <td>11895.0 (TP)</td>\n",
              "      <td>3207.0 (FN)</td>\n",
              "    </tr>\n",
              "    <tr>\n",
              "      <th>Actu. (0)</th>\n",
              "      <td>1237.0 (FP)</td>\n",
              "      <td>49710.0 (TN)</td>\n",
              "    </tr>\n",
              "  </tbody>\n",
              "</table>"
            ],
            "text/plain": [
              "<IPython.core.display.HTML object>"
            ]
          },
          "metadata": {
            "tags": []
          }
        },
        {
          "output_type": "display_data",
          "data": {
            "text/html": [
              "<table border=\"1\" class=\"dataframe\">\n",
              "  <thead>\n",
              "    <tr style=\"text-align: right;\">\n",
              "      <th></th>\n",
              "      <th>Accuracy (A)</th>\n",
              "      <th>Specificity (S)</th>\n",
              "      <th>Precision (P)</th>\n",
              "      <th>Recall (R)</th>\n",
              "      <th>Kappa Index (J)</th>\n",
              "      <th>Dice coefficiet (DC),</th>\n",
              "    </tr>\n",
              "  </thead>\n",
              "  <tbody>\n",
              "    <tr>\n",
              "      <th>0</th>\n",
              "      <td>0.932717</td>\n",
              "      <td>0.97572</td>\n",
              "      <td>0.905803</td>\n",
              "      <td>0.787644</td>\n",
              "      <td>0.800079</td>\n",
              "      <td>0.728013</td>\n",
              "    </tr>\n",
              "  </tbody>\n",
              "</table>"
            ],
            "text/plain": [
              "<IPython.core.display.HTML object>"
            ]
          },
          "metadata": {
            "tags": []
          }
        },
        {
          "output_type": "stream",
          "text": [
            "kmeans:\n",
            "--- 3.572476863861084 seconds ---\n"
          ],
          "name": "stdout"
        },
        {
          "output_type": "display_data",
          "data": {
            "text/html": [
              "<table border=\"1\" class=\"dataframe\">\n",
              "  <thead>\n",
              "    <tr style=\"text-align: right;\">\n",
              "      <th></th>\n",
              "      <th>Pred. (1)</th>\n",
              "      <th>Pred. (0)</th>\n",
              "    </tr>\n",
              "  </thead>\n",
              "  <tbody>\n",
              "    <tr>\n",
              "      <th>Actu. (1)</th>\n",
              "      <td>11309.0 (TP)</td>\n",
              "      <td>204.0 (FN)</td>\n",
              "    </tr>\n",
              "    <tr>\n",
              "      <th>Actu. (0)</th>\n",
              "      <td>117.0 (FP)</td>\n",
              "      <td>54419.0 (TN)</td>\n",
              "    </tr>\n",
              "  </tbody>\n",
              "</table>"
            ],
            "text/plain": [
              "<IPython.core.display.HTML object>"
            ]
          },
          "metadata": {
            "tags": []
          }
        },
        {
          "output_type": "display_data",
          "data": {
            "text/html": [
              "<table border=\"1\" class=\"dataframe\">\n",
              "  <thead>\n",
              "    <tr style=\"text-align: right;\">\n",
              "      <th></th>\n",
              "      <th>Accuracy (A)</th>\n",
              "      <th>Specificity (S)</th>\n",
              "      <th>Precision (P)</th>\n",
              "      <th>Recall (R)</th>\n",
              "      <th>Kappa Index (J)</th>\n",
              "      <th>Dice coefficiet (DC),</th>\n",
              "    </tr>\n",
              "  </thead>\n",
              "  <tbody>\n",
              "    <tr>\n",
              "      <th>0</th>\n",
              "      <td>0.99514</td>\n",
              "      <td>0.997855</td>\n",
              "      <td>0.98976</td>\n",
              "      <td>0.982281</td>\n",
              "      <td>0.983066</td>\n",
              "      <td>0.972399</td>\n",
              "    </tr>\n",
              "  </tbody>\n",
              "</table>"
            ],
            "text/plain": [
              "<IPython.core.display.HTML object>"
            ]
          },
          "metadata": {
            "tags": []
          }
        },
        {
          "output_type": "stream",
          "text": [
            "fcm:\n",
            "--- 4.614776611328125 seconds ---\n"
          ],
          "name": "stdout"
        },
        {
          "output_type": "display_data",
          "data": {
            "text/html": [
              "<table border=\"1\" class=\"dataframe\">\n",
              "  <thead>\n",
              "    <tr style=\"text-align: right;\">\n",
              "      <th></th>\n",
              "      <th>Pred. (1)</th>\n",
              "      <th>Pred. (0)</th>\n",
              "    </tr>\n",
              "  </thead>\n",
              "  <tbody>\n",
              "    <tr>\n",
              "      <th>Actu. (1)</th>\n",
              "      <td>11139.0 (TP)</td>\n",
              "      <td>374.0 (FN)</td>\n",
              "    </tr>\n",
              "    <tr>\n",
              "      <th>Actu. (0)</th>\n",
              "      <td>63.0 (FP)</td>\n",
              "      <td>54473.0 (TN)</td>\n",
              "    </tr>\n",
              "  </tbody>\n",
              "</table>"
            ],
            "text/plain": [
              "<IPython.core.display.HTML object>"
            ]
          },
          "metadata": {
            "tags": []
          }
        },
        {
          "output_type": "display_data",
          "data": {
            "text/html": [
              "<table border=\"1\" class=\"dataframe\">\n",
              "  <thead>\n",
              "    <tr style=\"text-align: right;\">\n",
              "      <th></th>\n",
              "      <th>Accuracy (A)</th>\n",
              "      <th>Specificity (S)</th>\n",
              "      <th>Precision (P)</th>\n",
              "      <th>Recall (R)</th>\n",
              "      <th>Kappa Index (J)</th>\n",
              "      <th>Dice coefficiet (DC),</th>\n",
              "    </tr>\n",
              "  </thead>\n",
              "  <tbody>\n",
              "    <tr>\n",
              "      <th>0</th>\n",
              "      <td>0.993384</td>\n",
              "      <td>0.998845</td>\n",
              "      <td>0.994376</td>\n",
              "      <td>0.967515</td>\n",
              "      <td>0.976767</td>\n",
              "      <td>0.962249</td>\n",
              "    </tr>\n",
              "  </tbody>\n",
              "</table>"
            ],
            "text/plain": [
              "<IPython.core.display.HTML object>"
            ]
          },
          "metadata": {
            "tags": []
          }
        },
        {
          "output_type": "stream",
          "text": [
            "kmeans:\n",
            "--- 3.635495662689209 seconds ---\n"
          ],
          "name": "stdout"
        },
        {
          "output_type": "display_data",
          "data": {
            "text/html": [
              "<table border=\"1\" class=\"dataframe\">\n",
              "  <thead>\n",
              "    <tr style=\"text-align: right;\">\n",
              "      <th></th>\n",
              "      <th>Pred. (1)</th>\n",
              "      <th>Pred. (0)</th>\n",
              "    </tr>\n",
              "  </thead>\n",
              "  <tbody>\n",
              "    <tr>\n",
              "      <th>Actu. (1)</th>\n",
              "      <td>11047.0 (TP)</td>\n",
              "      <td>3274.0 (FN)</td>\n",
              "    </tr>\n",
              "    <tr>\n",
              "      <th>Actu. (0)</th>\n",
              "      <td>1553.0 (FP)</td>\n",
              "      <td>50175.0 (TN)</td>\n",
              "    </tr>\n",
              "  </tbody>\n",
              "</table>"
            ],
            "text/plain": [
              "<IPython.core.display.HTML object>"
            ]
          },
          "metadata": {
            "tags": []
          }
        },
        {
          "output_type": "display_data",
          "data": {
            "text/html": [
              "<table border=\"1\" class=\"dataframe\">\n",
              "  <thead>\n",
              "    <tr style=\"text-align: right;\">\n",
              "      <th></th>\n",
              "      <th>Accuracy (A)</th>\n",
              "      <th>Specificity (S)</th>\n",
              "      <th>Precision (P)</th>\n",
              "      <th>Recall (R)</th>\n",
              "      <th>Kappa Index (J)</th>\n",
              "      <th>Dice coefficiet (DC),</th>\n",
              "    </tr>\n",
              "  </thead>\n",
              "  <tbody>\n",
              "    <tr>\n",
              "      <th>0</th>\n",
              "      <td>0.926918</td>\n",
              "      <td>0.969978</td>\n",
              "      <td>0.876746</td>\n",
              "      <td>0.771385</td>\n",
              "      <td>0.775039</td>\n",
              "      <td>0.695918</td>\n",
              "    </tr>\n",
              "  </tbody>\n",
              "</table>"
            ],
            "text/plain": [
              "<IPython.core.display.HTML object>"
            ]
          },
          "metadata": {
            "tags": []
          }
        },
        {
          "output_type": "stream",
          "text": [
            "fcm:\n",
            "--- 4.282698631286621 seconds ---\n"
          ],
          "name": "stdout"
        },
        {
          "output_type": "display_data",
          "data": {
            "text/html": [
              "<table border=\"1\" class=\"dataframe\">\n",
              "  <thead>\n",
              "    <tr style=\"text-align: right;\">\n",
              "      <th></th>\n",
              "      <th>Pred. (1)</th>\n",
              "      <th>Pred. (0)</th>\n",
              "    </tr>\n",
              "  </thead>\n",
              "  <tbody>\n",
              "    <tr>\n",
              "      <th>Actu. (1)</th>\n",
              "      <td>10742.0 (TP)</td>\n",
              "      <td>3579.0 (FN)</td>\n",
              "    </tr>\n",
              "    <tr>\n",
              "      <th>Actu. (0)</th>\n",
              "      <td>1519.0 (FP)</td>\n",
              "      <td>50209.0 (TN)</td>\n",
              "    </tr>\n",
              "  </tbody>\n",
              "</table>"
            ],
            "text/plain": [
              "<IPython.core.display.HTML object>"
            ]
          },
          "metadata": {
            "tags": []
          }
        },
        {
          "output_type": "display_data",
          "data": {
            "text/html": [
              "<table border=\"1\" class=\"dataframe\">\n",
              "  <thead>\n",
              "    <tr style=\"text-align: right;\">\n",
              "      <th></th>\n",
              "      <th>Accuracy (A)</th>\n",
              "      <th>Specificity (S)</th>\n",
              "      <th>Precision (P)</th>\n",
              "      <th>Recall (R)</th>\n",
              "      <th>Kappa Index (J)</th>\n",
              "      <th>Dice coefficiet (DC),</th>\n",
              "    </tr>\n",
              "  </thead>\n",
              "  <tbody>\n",
              "    <tr>\n",
              "      <th>0</th>\n",
              "      <td>0.922815</td>\n",
              "      <td>0.970635</td>\n",
              "      <td>0.876111</td>\n",
              "      <td>0.750087</td>\n",
              "      <td>0.760264</td>\n",
              "      <td>0.678157</td>\n",
              "    </tr>\n",
              "  </tbody>\n",
              "</table>"
            ],
            "text/plain": [
              "<IPython.core.display.HTML object>"
            ]
          },
          "metadata": {
            "tags": []
          }
        },
        {
          "output_type": "stream",
          "text": [
            "kmeans:\n",
            "--- 3.5810606479644775 seconds ---\n"
          ],
          "name": "stdout"
        },
        {
          "output_type": "display_data",
          "data": {
            "text/html": [
              "<table border=\"1\" class=\"dataframe\">\n",
              "  <thead>\n",
              "    <tr style=\"text-align: right;\">\n",
              "      <th></th>\n",
              "      <th>Pred. (1)</th>\n",
              "      <th>Pred. (0)</th>\n",
              "    </tr>\n",
              "  </thead>\n",
              "  <tbody>\n",
              "    <tr>\n",
              "      <th>Actu. (1)</th>\n",
              "      <td>11774.0 (TP)</td>\n",
              "      <td>3600.0 (FN)</td>\n",
              "    </tr>\n",
              "    <tr>\n",
              "      <th>Actu. (0)</th>\n",
              "      <td>233.0 (FP)</td>\n",
              "      <td>50442.0 (TN)</td>\n",
              "    </tr>\n",
              "  </tbody>\n",
              "</table>"
            ],
            "text/plain": [
              "<IPython.core.display.HTML object>"
            ]
          },
          "metadata": {
            "tags": []
          }
        },
        {
          "output_type": "display_data",
          "data": {
            "text/html": [
              "<table border=\"1\" class=\"dataframe\">\n",
              "  <thead>\n",
              "    <tr style=\"text-align: right;\">\n",
              "      <th></th>\n",
              "      <th>Accuracy (A)</th>\n",
              "      <th>Specificity (S)</th>\n",
              "      <th>Precision (P)</th>\n",
              "      <th>Recall (R)</th>\n",
              "      <th>Kappa Index (J)</th>\n",
              "      <th>Dice coefficiet (DC),</th>\n",
              "    </tr>\n",
              "  </thead>\n",
              "  <tbody>\n",
              "    <tr>\n",
              "      <th>0</th>\n",
              "      <td>0.941967</td>\n",
              "      <td>0.995402</td>\n",
              "      <td>0.980595</td>\n",
              "      <td>0.765838</td>\n",
              "      <td>0.824104</td>\n",
              "      <td>0.754405</td>\n",
              "    </tr>\n",
              "  </tbody>\n",
              "</table>"
            ],
            "text/plain": [
              "<IPython.core.display.HTML object>"
            ]
          },
          "metadata": {
            "tags": []
          }
        },
        {
          "output_type": "stream",
          "text": [
            "fcm:\n",
            "--- 4.136912822723389 seconds ---\n"
          ],
          "name": "stdout"
        },
        {
          "output_type": "display_data",
          "data": {
            "text/html": [
              "<table border=\"1\" class=\"dataframe\">\n",
              "  <thead>\n",
              "    <tr style=\"text-align: right;\">\n",
              "      <th></th>\n",
              "      <th>Pred. (1)</th>\n",
              "      <th>Pred. (0)</th>\n",
              "    </tr>\n",
              "  </thead>\n",
              "  <tbody>\n",
              "    <tr>\n",
              "      <th>Actu. (1)</th>\n",
              "      <td>11539.0 (TP)</td>\n",
              "      <td>3835.0 (FN)</td>\n",
              "    </tr>\n",
              "    <tr>\n",
              "      <th>Actu. (0)</th>\n",
              "      <td>213.0 (FP)</td>\n",
              "      <td>50462.0 (TN)</td>\n",
              "    </tr>\n",
              "  </tbody>\n",
              "</table>"
            ],
            "text/plain": [
              "<IPython.core.display.HTML object>"
            ]
          },
          "metadata": {
            "tags": []
          }
        },
        {
          "output_type": "display_data",
          "data": {
            "text/html": [
              "<table border=\"1\" class=\"dataframe\">\n",
              "  <thead>\n",
              "    <tr style=\"text-align: right;\">\n",
              "      <th></th>\n",
              "      <th>Accuracy (A)</th>\n",
              "      <th>Specificity (S)</th>\n",
              "      <th>Precision (P)</th>\n",
              "      <th>Recall (R)</th>\n",
              "      <th>Kappa Index (J)</th>\n",
              "      <th>Dice coefficiet (DC),</th>\n",
              "    </tr>\n",
              "  </thead>\n",
              "  <tbody>\n",
              "    <tr>\n",
              "      <th>0</th>\n",
              "      <td>0.938712</td>\n",
              "      <td>0.995797</td>\n",
              "      <td>0.981875</td>\n",
              "      <td>0.750553</td>\n",
              "      <td>0.813069</td>\n",
              "      <td>0.740296</td>\n",
              "    </tr>\n",
              "  </tbody>\n",
              "</table>"
            ],
            "text/plain": [
              "<IPython.core.display.HTML object>"
            ]
          },
          "metadata": {
            "tags": []
          }
        },
        {
          "output_type": "stream",
          "text": [
            "kmeans:\n",
            "--- 3.6394999027252197 seconds ---\n"
          ],
          "name": "stdout"
        },
        {
          "output_type": "display_data",
          "data": {
            "text/html": [
              "<table border=\"1\" class=\"dataframe\">\n",
              "  <thead>\n",
              "    <tr style=\"text-align: right;\">\n",
              "      <th></th>\n",
              "      <th>Pred. (1)</th>\n",
              "      <th>Pred. (0)</th>\n",
              "    </tr>\n",
              "  </thead>\n",
              "  <tbody>\n",
              "    <tr>\n",
              "      <th>Actu. (1)</th>\n",
              "      <td>10356.0 (TP)</td>\n",
              "      <td>4003.0 (FN)</td>\n",
              "    </tr>\n",
              "    <tr>\n",
              "      <th>Actu. (0)</th>\n",
              "      <td>168.0 (FP)</td>\n",
              "      <td>51522.0 (TN)</td>\n",
              "    </tr>\n",
              "  </tbody>\n",
              "</table>"
            ],
            "text/plain": [
              "<IPython.core.display.HTML object>"
            ]
          },
          "metadata": {
            "tags": []
          }
        },
        {
          "output_type": "display_data",
          "data": {
            "text/html": [
              "<table border=\"1\" class=\"dataframe\">\n",
              "  <thead>\n",
              "    <tr style=\"text-align: right;\">\n",
              "      <th></th>\n",
              "      <th>Accuracy (A)</th>\n",
              "      <th>Specificity (S)</th>\n",
              "      <th>Precision (P)</th>\n",
              "      <th>Recall (R)</th>\n",
              "      <th>Kappa Index (J)</th>\n",
              "      <th>Dice coefficiet (DC),</th>\n",
              "    </tr>\n",
              "  </thead>\n",
              "  <tbody>\n",
              "    <tr>\n",
              "      <th>0</th>\n",
              "      <td>0.93685</td>\n",
              "      <td>0.99675</td>\n",
              "      <td>0.984036</td>\n",
              "      <td>0.72122</td>\n",
              "      <td>0.794605</td>\n",
              "      <td>0.712879</td>\n",
              "    </tr>\n",
              "  </tbody>\n",
              "</table>"
            ],
            "text/plain": [
              "<IPython.core.display.HTML object>"
            ]
          },
          "metadata": {
            "tags": []
          }
        },
        {
          "output_type": "stream",
          "text": [
            "fcm:\n",
            "--- 4.397639036178589 seconds ---\n"
          ],
          "name": "stdout"
        },
        {
          "output_type": "display_data",
          "data": {
            "text/html": [
              "<table border=\"1\" class=\"dataframe\">\n",
              "  <thead>\n",
              "    <tr style=\"text-align: right;\">\n",
              "      <th></th>\n",
              "      <th>Pred. (1)</th>\n",
              "      <th>Pred. (0)</th>\n",
              "    </tr>\n",
              "  </thead>\n",
              "  <tbody>\n",
              "    <tr>\n",
              "      <th>Actu. (1)</th>\n",
              "      <td>9894.0 (TP)</td>\n",
              "      <td>4465.0 (FN)</td>\n",
              "    </tr>\n",
              "    <tr>\n",
              "      <th>Actu. (0)</th>\n",
              "      <td>137.0 (FP)</td>\n",
              "      <td>51553.0 (TN)</td>\n",
              "    </tr>\n",
              "  </tbody>\n",
              "</table>"
            ],
            "text/plain": [
              "<IPython.core.display.HTML object>"
            ]
          },
          "metadata": {
            "tags": []
          }
        },
        {
          "output_type": "display_data",
          "data": {
            "text/html": [
              "<table border=\"1\" class=\"dataframe\">\n",
              "  <thead>\n",
              "    <tr style=\"text-align: right;\">\n",
              "      <th></th>\n",
              "      <th>Accuracy (A)</th>\n",
              "      <th>Specificity (S)</th>\n",
              "      <th>Precision (P)</th>\n",
              "      <th>Recall (R)</th>\n",
              "      <th>Kappa Index (J)</th>\n",
              "      <th>Dice coefficiet (DC),</th>\n",
              "    </tr>\n",
              "  </thead>\n",
              "  <tbody>\n",
              "    <tr>\n",
              "      <th>0</th>\n",
              "      <td>0.930324</td>\n",
              "      <td>0.99735</td>\n",
              "      <td>0.986342</td>\n",
              "      <td>0.689045</td>\n",
              "      <td>0.770228</td>\n",
              "      <td>0.682533</td>\n",
              "    </tr>\n",
              "  </tbody>\n",
              "</table>"
            ],
            "text/plain": [
              "<IPython.core.display.HTML object>"
            ]
          },
          "metadata": {
            "tags": []
          }
        }
      ]
    }
  ]
}